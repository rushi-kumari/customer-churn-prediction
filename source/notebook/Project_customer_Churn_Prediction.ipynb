{
  "nbformat": 4,
  "nbformat_minor": 0,
  "metadata": {
    "kernelspec": {
      "display_name": "Python 3",
      "language": "python",
      "name": "python3"
    },
    "language_info": {
      "codemirror_mode": {
        "name": "ipython",
        "version": 3
      },
      "file_extension": ".py",
      "mimetype": "text/x-python",
      "name": "python",
      "nbconvert_exporter": "python",
      "pygments_lexer": "ipython3",
      "version": "3.6.0"
    },
    "colab": {
      "name": "Project_customer_Churn_Prediction.ipynb",
      "provenance": []
    }
  },
  "cells": [
    {
      "cell_type": "markdown",
      "metadata": {
        "id": "oQcNhiRw9d9m"
      },
      "source": [
        "**Customer Churn Prediction**"
      ]
    },
    {
      "cell_type": "markdown",
      "metadata": {
        "id": "xxBu-rVu9o_7"
      },
      "source": [
        "\"A Bank wants to take care of it’s customer retention for its product.\"\n",
        "The bank wants to identify customers likely to churn balances below the minimum balance. "
      ]
    },
    {
      "cell_type": "markdown",
      "metadata": {
        "id": "2XOA1zMooDyb"
      },
      "source": [
        "**Data** :\n",
        "\n",
        "The dataset which can be cleanly divided in 3 categories:\n",
        "\n",
        "Demographic information about customers:\n",
        "customer_id \n",
        "\n",
        "vintage\n",
        "\n",
        "age \n",
        "\n",
        "gender\n",
        "\n",
        "dependents\n",
        "\n",
        "occupation\n",
        "\n",
        "city \n",
        "\n",
        "Customer Bank Relationship:\n",
        "customer_nw_category \n",
        "\n",
        "branch_code\n",
        "\n",
        "days_since_last_transaction \n",
        "\n",
        "Transactional Information :\n",
        "current_balance \n",
        "\n",
        "previous_month_end_balance\n",
        "\n",
        "average_monthly_balance_prevQ\n",
        "\n",
        "average_monthly_balance_prevQ2 \n",
        "\n",
        "current_month_credit \n",
        "\n",
        "previous_month_credit \n",
        "\n",
        "current_month_debit \n",
        "\n",
        "previous_month_debit \n",
        "\n",
        "current_month_balance \n",
        "\n",
        "previous_month_balance \n",
        "\n",
        "churn - Average balance of customer falls below minimum balance in the next quarter (1/0)"
      ]
    },
    {
      "cell_type": "markdown",
      "metadata": {
        "id": "yJpmcVSbqRQ5"
      },
      "source": [
        "**Load Packages**"
      ]
    },
    {
      "cell_type": "code",
      "metadata": {
        "id": "F5fOmdc86qgo"
      },
      "source": [
        "import pandas as pd\n",
        "import numpy as np\n",
        "import matplotlib.pyplot as plt\n",
        "%matplotlib inline\n",
        "#import random as rd\n",
        "#from sklearn.preprocessing import OneHotEncoder\n",
        "from sklearn.preprocessing import LabelEncoder\n",
        "from sklearn.preprocessing import StandardScaler\n",
        "from sklearn.linear_model import LogisticRegression as LG\n",
        "from sklearn.metrics import f1_score\n",
        "from sklearn.model_selection import KFold, StratifiedKFold, train_test_split\n",
        "from sklearn.metrics import roc_auc_score, accuracy_score, confusion_matrix, roc_curve, precision_score, recall_score, precision_recall_curve\n",
        "import warnings\n",
        "warnings.simplefilter(action='ignore', category=FutureWarning)\n",
        "warnings.simplefilter(action='ignore', category=UserWarning)"
      ],
      "execution_count": 256,
      "outputs": []
    },
    {
      "cell_type": "code",
      "metadata": {
        "id": "mgo8c3E16qgq"
      },
      "source": [
        "#Load Data\n",
        "df=pd.read_csv('churn_prediction.csv')"
      ],
      "execution_count": 257,
      "outputs": []
    },
    {
      "cell_type": "code",
      "metadata": {
        "colab": {
          "base_uri": "https://localhost:8080/"
        },
        "id": "AO1Ljbfa6qgq",
        "outputId": "5fc27080-e8d2-4774-e6f0-2ab6a00ccdc8"
      },
      "source": [
        "df.shape"
      ],
      "execution_count": 258,
      "outputs": [
        {
          "output_type": "execute_result",
          "data": {
            "text/plain": [
              "(28382, 21)"
            ]
          },
          "metadata": {
            "tags": []
          },
          "execution_count": 258
        }
      ]
    },
    {
      "cell_type": "code",
      "metadata": {
        "colab": {
          "base_uri": "https://localhost:8080/"
        },
        "id": "D3Cz9tOiqfj8",
        "outputId": "4e47528e-075d-429f-98fe-75fd31d7c223"
      },
      "source": [
        "df.isnull().sum()"
      ],
      "execution_count": 260,
      "outputs": [
        {
          "output_type": "execute_result",
          "data": {
            "text/plain": [
              "customer_id                          0\n",
              "vintage                              0\n",
              "age                                  0\n",
              "gender                             525\n",
              "dependents                        2463\n",
              "occupation                          80\n",
              "city                               803\n",
              "customer_nw_category                 0\n",
              "branch_code                          0\n",
              "days_since_last_transaction       3223\n",
              "current_balance                      0\n",
              "previous_month_end_balance           0\n",
              "average_monthly_balance_prevQ        0\n",
              "average_monthly_balance_prevQ2       0\n",
              "current_month_credit                 0\n",
              "previous_month_credit                0\n",
              "current_month_debit                  0\n",
              "previous_month_debit                 0\n",
              "current_month_balance                0\n",
              "previous_month_balance               0\n",
              "churn                                0\n",
              "dtype: int64"
            ]
          },
          "metadata": {
            "tags": []
          },
          "execution_count": 260
        }
      ]
    },
    {
      "cell_type": "markdown",
      "metadata": {
        "id": "zO9nEx4TEL2N"
      },
      "source": [
        "**Missing Vaue Imputation**"
      ]
    },
    {
      "cell_type": "code",
      "metadata": {
        "id": "Zgo9cCVJ6qgt"
      },
      "source": [
        "df['gender'].fillna(value=df['gender'].mode()[0],inplace=True)"
      ],
      "execution_count": 261,
      "outputs": []
    },
    {
      "cell_type": "code",
      "metadata": {
        "id": "7snelF5a6qgt"
      },
      "source": [
        "df=df.astype({\"customer_nw_category\" : 'object',\"churn\" : 'object'})"
      ],
      "execution_count": 262,
      "outputs": []
    },
    {
      "cell_type": "code",
      "metadata": {
        "id": "hG06Z3cL6qgt"
      },
      "source": [
        "df['occupation'].fillna(value=df['occupation'].mode()[0],inplace=True)"
      ],
      "execution_count": 263,
      "outputs": []
    },
    {
      "cell_type": "code",
      "metadata": {
        "id": "NE4Q3tgn6qgt"
      },
      "source": [
        "df['dependents'].fillna(value=df['dependents'].mode()[0],inplace=True)"
      ],
      "execution_count": 264,
      "outputs": []
    },
    {
      "cell_type": "code",
      "metadata": {
        "id": "QdD1w2h26qgt"
      },
      "source": [
        "df['city'].fillna(value=df['city'].mean(),inplace=True)"
      ],
      "execution_count": 265,
      "outputs": []
    },
    {
      "cell_type": "code",
      "metadata": {
        "id": "jzrIakUn6qgt"
      },
      "source": [
        "df['days_since_last_transaction'].fillna(value=df['days_since_last_transaction'].mean(),inplace=True)"
      ],
      "execution_count": 266,
      "outputs": []
    },
    {
      "cell_type": "code",
      "metadata": {
        "colab": {
          "base_uri": "https://localhost:8080/"
        },
        "id": "MLxe9Wbr6qgt",
        "outputId": "dd897d07-760d-491b-9a53-caab1aa73ace"
      },
      "source": [
        "df.shape"
      ],
      "execution_count": 267,
      "outputs": [
        {
          "output_type": "execute_result",
          "data": {
            "text/plain": [
              "(28382, 21)"
            ]
          },
          "metadata": {
            "tags": []
          },
          "execution_count": 267
        }
      ]
    },
    {
      "cell_type": "code",
      "metadata": {
        "colab": {
          "base_uri": "https://localhost:8080/"
        },
        "id": "uDthgvIx6qgt",
        "outputId": "f8237274-bd5d-4673-cf35-544a08c27557"
      },
      "source": [
        "df['gender'].value_counts()"
      ],
      "execution_count": 268,
      "outputs": [
        {
          "output_type": "execute_result",
          "data": {
            "text/plain": [
              "Male      17073\n",
              "Female    11309\n",
              "Name: gender, dtype: int64"
            ]
          },
          "metadata": {
            "tags": []
          },
          "execution_count": 268
        }
      ]
    },
    {
      "cell_type": "code",
      "metadata": {
        "colab": {
          "base_uri": "https://localhost:8080/"
        },
        "id": "B0wFoEG16qgu",
        "outputId": "5222ed2a-0c76-4599-ce3a-0d323aa95758"
      },
      "source": [
        "df['occupation'].value_counts()"
      ],
      "execution_count": 269,
      "outputs": [
        {
          "output_type": "execute_result",
          "data": {
            "text/plain": [
              "self_employed    17556\n",
              "salaried          6704\n",
              "student           2058\n",
              "retired           2024\n",
              "company             40\n",
              "Name: occupation, dtype: int64"
            ]
          },
          "metadata": {
            "tags": []
          },
          "execution_count": 269
        }
      ]
    },
    {
      "cell_type": "markdown",
      "metadata": {
        "id": "XCR1_MzjrHLU"
      },
      "source": [
        "**Preprocessing**"
      ]
    },
    {
      "cell_type": "code",
      "metadata": {
        "id": "1Z5eyB9Q6qgu"
      },
      "source": [
        "#Convert Gender\n",
        "dict_gender = {'Male': 1, 'Female':0}\n",
        "df.replace({'gender': dict_gender}, inplace = True)\n",
        "\n",
        "df['gender'] = df['gender'].fillna(-1)"
      ],
      "execution_count": 270,
      "outputs": []
    },
    {
      "cell_type": "code",
      "metadata": {
        "colab": {
          "base_uri": "https://localhost:8080/"
        },
        "id": "0B2tktlK6qgu",
        "outputId": "4b784b90-08d2-4793-9b13-7d9af27c40d0"
      },
      "source": [
        "df.shape"
      ],
      "execution_count": 271,
      "outputs": [
        {
          "output_type": "execute_result",
          "data": {
            "text/plain": [
              "(28382, 21)"
            ]
          },
          "metadata": {
            "tags": []
          },
          "execution_count": 271
        }
      ]
    },
    {
      "cell_type": "code",
      "metadata": {
        "colab": {
          "base_uri": "https://localhost:8080/"
        },
        "id": "z6I9sha76qgv",
        "outputId": "780763f4-cd85-4fb6-884d-dd94e65e069e"
      },
      "source": [
        "df.isnull().sum()"
      ],
      "execution_count": 272,
      "outputs": [
        {
          "output_type": "execute_result",
          "data": {
            "text/plain": [
              "customer_id                       0\n",
              "vintage                           0\n",
              "age                               0\n",
              "gender                            0\n",
              "dependents                        0\n",
              "occupation                        0\n",
              "city                              0\n",
              "customer_nw_category              0\n",
              "branch_code                       0\n",
              "days_since_last_transaction       0\n",
              "current_balance                   0\n",
              "previous_month_end_balance        0\n",
              "average_monthly_balance_prevQ     0\n",
              "average_monthly_balance_prevQ2    0\n",
              "current_month_credit              0\n",
              "previous_month_credit             0\n",
              "current_month_debit               0\n",
              "previous_month_debit              0\n",
              "current_month_balance             0\n",
              "previous_month_balance            0\n",
              "churn                             0\n",
              "dtype: int64"
            ]
          },
          "metadata": {
            "tags": []
          },
          "execution_count": 272
        }
      ]
    },
    {
      "cell_type": "code",
      "metadata": {
        "id": "wnZs1esT6qgv"
      },
      "source": [
        "data=pd.get_dummies(df['occupation'])"
      ],
      "execution_count": 273,
      "outputs": []
    },
    {
      "cell_type": "code",
      "metadata": {
        "id": "TUNmBtTf6qgv"
      },
      "source": [
        "df=pd.concat([data,df],axis=1)"
      ],
      "execution_count": 274,
      "outputs": []
    },
    {
      "cell_type": "code",
      "metadata": {
        "id": "87mUP0qs6qgv"
      },
      "source": [
        "df.drop(['occupation'],axis=1,inplace=True)"
      ],
      "execution_count": 275,
      "outputs": []
    },
    {
      "cell_type": "code",
      "metadata": {
        "colab": {
          "base_uri": "https://localhost:8080/",
          "height": 999
        },
        "id": "tD2XNUgd6qgv",
        "outputId": "a20ba858-32c0-4d47-89a0-4f1bcc5834e5"
      },
      "source": [
        "df.head(30)"
      ],
      "execution_count": 276,
      "outputs": [
        {
          "output_type": "execute_result",
          "data": {
            "text/html": [
              "<div>\n",
              "<style scoped>\n",
              "    .dataframe tbody tr th:only-of-type {\n",
              "        vertical-align: middle;\n",
              "    }\n",
              "\n",
              "    .dataframe tbody tr th {\n",
              "        vertical-align: top;\n",
              "    }\n",
              "\n",
              "    .dataframe thead th {\n",
              "        text-align: right;\n",
              "    }\n",
              "</style>\n",
              "<table border=\"1\" class=\"dataframe\">\n",
              "  <thead>\n",
              "    <tr style=\"text-align: right;\">\n",
              "      <th></th>\n",
              "      <th>company</th>\n",
              "      <th>retired</th>\n",
              "      <th>salaried</th>\n",
              "      <th>self_employed</th>\n",
              "      <th>student</th>\n",
              "      <th>customer_id</th>\n",
              "      <th>vintage</th>\n",
              "      <th>age</th>\n",
              "      <th>gender</th>\n",
              "      <th>dependents</th>\n",
              "      <th>city</th>\n",
              "      <th>customer_nw_category</th>\n",
              "      <th>branch_code</th>\n",
              "      <th>days_since_last_transaction</th>\n",
              "      <th>current_balance</th>\n",
              "      <th>previous_month_end_balance</th>\n",
              "      <th>average_monthly_balance_prevQ</th>\n",
              "      <th>average_monthly_balance_prevQ2</th>\n",
              "      <th>current_month_credit</th>\n",
              "      <th>previous_month_credit</th>\n",
              "      <th>current_month_debit</th>\n",
              "      <th>previous_month_debit</th>\n",
              "      <th>current_month_balance</th>\n",
              "      <th>previous_month_balance</th>\n",
              "      <th>churn</th>\n",
              "    </tr>\n",
              "  </thead>\n",
              "  <tbody>\n",
              "    <tr>\n",
              "      <th>0</th>\n",
              "      <td>0</td>\n",
              "      <td>0</td>\n",
              "      <td>0</td>\n",
              "      <td>1</td>\n",
              "      <td>0</td>\n",
              "      <td>1</td>\n",
              "      <td>3135</td>\n",
              "      <td>66</td>\n",
              "      <td>1</td>\n",
              "      <td>0.0</td>\n",
              "      <td>187.000000</td>\n",
              "      <td>2</td>\n",
              "      <td>755</td>\n",
              "      <td>224.000000</td>\n",
              "      <td>1458.71</td>\n",
              "      <td>1458.71</td>\n",
              "      <td>1458.71</td>\n",
              "      <td>1449.07</td>\n",
              "      <td>0.20</td>\n",
              "      <td>0.20</td>\n",
              "      <td>0.20</td>\n",
              "      <td>0.20</td>\n",
              "      <td>1458.71</td>\n",
              "      <td>1458.71</td>\n",
              "      <td>0</td>\n",
              "    </tr>\n",
              "    <tr>\n",
              "      <th>1</th>\n",
              "      <td>0</td>\n",
              "      <td>0</td>\n",
              "      <td>0</td>\n",
              "      <td>1</td>\n",
              "      <td>0</td>\n",
              "      <td>2</td>\n",
              "      <td>310</td>\n",
              "      <td>35</td>\n",
              "      <td>1</td>\n",
              "      <td>0.0</td>\n",
              "      <td>796.109576</td>\n",
              "      <td>2</td>\n",
              "      <td>3214</td>\n",
              "      <td>60.000000</td>\n",
              "      <td>5390.37</td>\n",
              "      <td>8704.66</td>\n",
              "      <td>7799.26</td>\n",
              "      <td>12419.41</td>\n",
              "      <td>0.56</td>\n",
              "      <td>0.56</td>\n",
              "      <td>5486.27</td>\n",
              "      <td>100.56</td>\n",
              "      <td>6496.78</td>\n",
              "      <td>8787.61</td>\n",
              "      <td>0</td>\n",
              "    </tr>\n",
              "    <tr>\n",
              "      <th>2</th>\n",
              "      <td>0</td>\n",
              "      <td>0</td>\n",
              "      <td>1</td>\n",
              "      <td>0</td>\n",
              "      <td>0</td>\n",
              "      <td>4</td>\n",
              "      <td>2356</td>\n",
              "      <td>31</td>\n",
              "      <td>1</td>\n",
              "      <td>0.0</td>\n",
              "      <td>146.000000</td>\n",
              "      <td>2</td>\n",
              "      <td>41</td>\n",
              "      <td>69.997814</td>\n",
              "      <td>3913.16</td>\n",
              "      <td>5815.29</td>\n",
              "      <td>4910.17</td>\n",
              "      <td>2815.94</td>\n",
              "      <td>0.61</td>\n",
              "      <td>0.61</td>\n",
              "      <td>6046.73</td>\n",
              "      <td>259.23</td>\n",
              "      <td>5006.28</td>\n",
              "      <td>5070.14</td>\n",
              "      <td>0</td>\n",
              "    </tr>\n",
              "    <tr>\n",
              "      <th>3</th>\n",
              "      <td>0</td>\n",
              "      <td>0</td>\n",
              "      <td>0</td>\n",
              "      <td>1</td>\n",
              "      <td>0</td>\n",
              "      <td>5</td>\n",
              "      <td>478</td>\n",
              "      <td>90</td>\n",
              "      <td>1</td>\n",
              "      <td>0.0</td>\n",
              "      <td>1020.000000</td>\n",
              "      <td>2</td>\n",
              "      <td>582</td>\n",
              "      <td>147.000000</td>\n",
              "      <td>2291.91</td>\n",
              "      <td>2291.91</td>\n",
              "      <td>2084.54</td>\n",
              "      <td>1006.54</td>\n",
              "      <td>0.47</td>\n",
              "      <td>0.47</td>\n",
              "      <td>0.47</td>\n",
              "      <td>2143.33</td>\n",
              "      <td>2291.91</td>\n",
              "      <td>1669.79</td>\n",
              "      <td>1</td>\n",
              "    </tr>\n",
              "    <tr>\n",
              "      <th>4</th>\n",
              "      <td>0</td>\n",
              "      <td>0</td>\n",
              "      <td>0</td>\n",
              "      <td>1</td>\n",
              "      <td>0</td>\n",
              "      <td>6</td>\n",
              "      <td>2531</td>\n",
              "      <td>42</td>\n",
              "      <td>1</td>\n",
              "      <td>2.0</td>\n",
              "      <td>1494.000000</td>\n",
              "      <td>3</td>\n",
              "      <td>388</td>\n",
              "      <td>58.000000</td>\n",
              "      <td>927.72</td>\n",
              "      <td>1401.72</td>\n",
              "      <td>1643.31</td>\n",
              "      <td>1871.12</td>\n",
              "      <td>0.33</td>\n",
              "      <td>714.61</td>\n",
              "      <td>588.62</td>\n",
              "      <td>1538.06</td>\n",
              "      <td>1157.15</td>\n",
              "      <td>1677.16</td>\n",
              "      <td>1</td>\n",
              "    </tr>\n",
              "    <tr>\n",
              "      <th>5</th>\n",
              "      <td>0</td>\n",
              "      <td>0</td>\n",
              "      <td>0</td>\n",
              "      <td>1</td>\n",
              "      <td>0</td>\n",
              "      <td>7</td>\n",
              "      <td>263</td>\n",
              "      <td>42</td>\n",
              "      <td>0</td>\n",
              "      <td>0.0</td>\n",
              "      <td>1096.000000</td>\n",
              "      <td>2</td>\n",
              "      <td>1666</td>\n",
              "      <td>60.000000</td>\n",
              "      <td>15202.20</td>\n",
              "      <td>16059.34</td>\n",
              "      <td>15211.29</td>\n",
              "      <td>13798.82</td>\n",
              "      <td>0.36</td>\n",
              "      <td>0.36</td>\n",
              "      <td>857.50</td>\n",
              "      <td>286.07</td>\n",
              "      <td>15719.44</td>\n",
              "      <td>15349.75</td>\n",
              "      <td>0</td>\n",
              "    </tr>\n",
              "    <tr>\n",
              "      <th>6</th>\n",
              "      <td>0</td>\n",
              "      <td>1</td>\n",
              "      <td>0</td>\n",
              "      <td>0</td>\n",
              "      <td>0</td>\n",
              "      <td>8</td>\n",
              "      <td>5922</td>\n",
              "      <td>72</td>\n",
              "      <td>1</td>\n",
              "      <td>0.0</td>\n",
              "      <td>1020.000000</td>\n",
              "      <td>1</td>\n",
              "      <td>1</td>\n",
              "      <td>98.000000</td>\n",
              "      <td>7006.93</td>\n",
              "      <td>7714.19</td>\n",
              "      <td>7859.74</td>\n",
              "      <td>11232.37</td>\n",
              "      <td>0.64</td>\n",
              "      <td>0.64</td>\n",
              "      <td>1299.64</td>\n",
              "      <td>439.26</td>\n",
              "      <td>7076.06</td>\n",
              "      <td>7755.98</td>\n",
              "      <td>0</td>\n",
              "    </tr>\n",
              "    <tr>\n",
              "      <th>7</th>\n",
              "      <td>0</td>\n",
              "      <td>0</td>\n",
              "      <td>0</td>\n",
              "      <td>1</td>\n",
              "      <td>0</td>\n",
              "      <td>9</td>\n",
              "      <td>1145</td>\n",
              "      <td>46</td>\n",
              "      <td>1</td>\n",
              "      <td>0.0</td>\n",
              "      <td>623.000000</td>\n",
              "      <td>2</td>\n",
              "      <td>317</td>\n",
              "      <td>172.000000</td>\n",
              "      <td>10096.58</td>\n",
              "      <td>8519.53</td>\n",
              "      <td>6511.82</td>\n",
              "      <td>16314.17</td>\n",
              "      <td>0.27</td>\n",
              "      <td>0.27</td>\n",
              "      <td>443.13</td>\n",
              "      <td>5688.44</td>\n",
              "      <td>8563.84</td>\n",
              "      <td>5317.04</td>\n",
              "      <td>0</td>\n",
              "    </tr>\n",
              "    <tr>\n",
              "      <th>8</th>\n",
              "      <td>0</td>\n",
              "      <td>0</td>\n",
              "      <td>1</td>\n",
              "      <td>0</td>\n",
              "      <td>0</td>\n",
              "      <td>10</td>\n",
              "      <td>2132</td>\n",
              "      <td>31</td>\n",
              "      <td>1</td>\n",
              "      <td>0.0</td>\n",
              "      <td>1096.000000</td>\n",
              "      <td>2</td>\n",
              "      <td>4110</td>\n",
              "      <td>19.000000</td>\n",
              "      <td>1355.86</td>\n",
              "      <td>1355.86</td>\n",
              "      <td>1702.44</td>\n",
              "      <td>1126.13</td>\n",
              "      <td>714.51</td>\n",
              "      <td>121.09</td>\n",
              "      <td>714.51</td>\n",
              "      <td>359.44</td>\n",
              "      <td>1183.45</td>\n",
              "      <td>1857.42</td>\n",
              "      <td>0</td>\n",
              "    </tr>\n",
              "    <tr>\n",
              "      <th>9</th>\n",
              "      <td>0</td>\n",
              "      <td>0</td>\n",
              "      <td>0</td>\n",
              "      <td>1</td>\n",
              "      <td>0</td>\n",
              "      <td>11</td>\n",
              "      <td>3379</td>\n",
              "      <td>40</td>\n",
              "      <td>1</td>\n",
              "      <td>3.0</td>\n",
              "      <td>1020.000000</td>\n",
              "      <td>2</td>\n",
              "      <td>38</td>\n",
              "      <td>0.000000</td>\n",
              "      <td>4957.95</td>\n",
              "      <td>4244.38</td>\n",
              "      <td>2168.53</td>\n",
              "      <td>1864.33</td>\n",
              "      <td>6912.29</td>\n",
              "      <td>4206.13</td>\n",
              "      <td>1887.30</td>\n",
              "      <td>1348.85</td>\n",
              "      <td>1823.16</td>\n",
              "      <td>2416.69</td>\n",
              "      <td>0</td>\n",
              "    </tr>\n",
              "    <tr>\n",
              "      <th>10</th>\n",
              "      <td>0</td>\n",
              "      <td>1</td>\n",
              "      <td>0</td>\n",
              "      <td>0</td>\n",
              "      <td>0</td>\n",
              "      <td>12</td>\n",
              "      <td>661</td>\n",
              "      <td>68</td>\n",
              "      <td>1</td>\n",
              "      <td>0.0</td>\n",
              "      <td>409.000000</td>\n",
              "      <td>3</td>\n",
              "      <td>709</td>\n",
              "      <td>5.000000</td>\n",
              "      <td>1928.76</td>\n",
              "      <td>1571.47</td>\n",
              "      <td>1722.60</td>\n",
              "      <td>747.66</td>\n",
              "      <td>443.40</td>\n",
              "      <td>0.54</td>\n",
              "      <td>0.54</td>\n",
              "      <td>208.79</td>\n",
              "      <td>1606.54</td>\n",
              "      <td>1800.15</td>\n",
              "      <td>0</td>\n",
              "    </tr>\n",
              "    <tr>\n",
              "      <th>11</th>\n",
              "      <td>0</td>\n",
              "      <td>0</td>\n",
              "      <td>1</td>\n",
              "      <td>0</td>\n",
              "      <td>0</td>\n",
              "      <td>13</td>\n",
              "      <td>7108</td>\n",
              "      <td>32</td>\n",
              "      <td>1</td>\n",
              "      <td>0.0</td>\n",
              "      <td>1096.000000</td>\n",
              "      <td>1</td>\n",
              "      <td>89</td>\n",
              "      <td>20.000000</td>\n",
              "      <td>6886.40</td>\n",
              "      <td>8372.64</td>\n",
              "      <td>9149.45</td>\n",
              "      <td>21007.52</td>\n",
              "      <td>7564.53</td>\n",
              "      <td>4550.24</td>\n",
              "      <td>9907.91</td>\n",
              "      <td>5161.96</td>\n",
              "      <td>8532.97</td>\n",
              "      <td>8072.33</td>\n",
              "      <td>0</td>\n",
              "    </tr>\n",
              "    <tr>\n",
              "      <th>12</th>\n",
              "      <td>0</td>\n",
              "      <td>1</td>\n",
              "      <td>0</td>\n",
              "      <td>0</td>\n",
              "      <td>0</td>\n",
              "      <td>14</td>\n",
              "      <td>2438</td>\n",
              "      <td>73</td>\n",
              "      <td>1</td>\n",
              "      <td>0.0</td>\n",
              "      <td>44.000000</td>\n",
              "      <td>3</td>\n",
              "      <td>409</td>\n",
              "      <td>47.000000</td>\n",
              "      <td>554.38</td>\n",
              "      <td>5728.66</td>\n",
              "      <td>1794.39</td>\n",
              "      <td>137.25</td>\n",
              "      <td>0.33</td>\n",
              "      <td>500.33</td>\n",
              "      <td>5098.90</td>\n",
              "      <td>508.53</td>\n",
              "      <td>2541.22</td>\n",
              "      <td>2612.60</td>\n",
              "      <td>1</td>\n",
              "    </tr>\n",
              "    <tr>\n",
              "      <th>13</th>\n",
              "      <td>0</td>\n",
              "      <td>0</td>\n",
              "      <td>1</td>\n",
              "      <td>0</td>\n",
              "      <td>0</td>\n",
              "      <td>15</td>\n",
              "      <td>5703</td>\n",
              "      <td>50</td>\n",
              "      <td>1</td>\n",
              "      <td>0.0</td>\n",
              "      <td>409.000000</td>\n",
              "      <td>1</td>\n",
              "      <td>88</td>\n",
              "      <td>303.000000</td>\n",
              "      <td>4548.48</td>\n",
              "      <td>3526.01</td>\n",
              "      <td>2831.89</td>\n",
              "      <td>8075.81</td>\n",
              "      <td>0.61</td>\n",
              "      <td>0.61</td>\n",
              "      <td>1748.08</td>\n",
              "      <td>2529.75</td>\n",
              "      <td>2985.16</td>\n",
              "      <td>1536.98</td>\n",
              "      <td>0</td>\n",
              "    </tr>\n",
              "    <tr>\n",
              "      <th>14</th>\n",
              "      <td>0</td>\n",
              "      <td>0</td>\n",
              "      <td>0</td>\n",
              "      <td>1</td>\n",
              "      <td>0</td>\n",
              "      <td>16</td>\n",
              "      <td>2314</td>\n",
              "      <td>48</td>\n",
              "      <td>0</td>\n",
              "      <td>0.0</td>\n",
              "      <td>665.000000</td>\n",
              "      <td>2</td>\n",
              "      <td>569</td>\n",
              "      <td>52.000000</td>\n",
              "      <td>5431.42</td>\n",
              "      <td>5489.14</td>\n",
              "      <td>6532.99</td>\n",
              "      <td>7720.34</td>\n",
              "      <td>0.66</td>\n",
              "      <td>661.73</td>\n",
              "      <td>0.66</td>\n",
              "      <td>2811.53</td>\n",
              "      <td>5437.04</td>\n",
              "      <td>6633.94</td>\n",
              "      <td>1</td>\n",
              "    </tr>\n",
              "    <tr>\n",
              "      <th>15</th>\n",
              "      <td>0</td>\n",
              "      <td>0</td>\n",
              "      <td>0</td>\n",
              "      <td>1</td>\n",
              "      <td>0</td>\n",
              "      <td>17</td>\n",
              "      <td>1934</td>\n",
              "      <td>51</td>\n",
              "      <td>0</td>\n",
              "      <td>0.0</td>\n",
              "      <td>1232.000000</td>\n",
              "      <td>3</td>\n",
              "      <td>149</td>\n",
              "      <td>69.997814</td>\n",
              "      <td>2010.98</td>\n",
              "      <td>1994.84</td>\n",
              "      <td>1829.43</td>\n",
              "      <td>2415.57</td>\n",
              "      <td>0.16</td>\n",
              "      <td>0.16</td>\n",
              "      <td>128.66</td>\n",
              "      <td>360.70</td>\n",
              "      <td>1960.91</td>\n",
              "      <td>1840.23</td>\n",
              "      <td>0</td>\n",
              "    </tr>\n",
              "    <tr>\n",
              "      <th>16</th>\n",
              "      <td>0</td>\n",
              "      <td>0</td>\n",
              "      <td>0</td>\n",
              "      <td>1</td>\n",
              "      <td>0</td>\n",
              "      <td>19</td>\n",
              "      <td>2723</td>\n",
              "      <td>49</td>\n",
              "      <td>1</td>\n",
              "      <td>0.0</td>\n",
              "      <td>1125.000000</td>\n",
              "      <td>3</td>\n",
              "      <td>1023</td>\n",
              "      <td>0.000000</td>\n",
              "      <td>1448.49</td>\n",
              "      <td>3183.27</td>\n",
              "      <td>3021.27</td>\n",
              "      <td>1710.93</td>\n",
              "      <td>190.71</td>\n",
              "      <td>113.64</td>\n",
              "      <td>2461.66</td>\n",
              "      <td>1257.41</td>\n",
              "      <td>1950.95</td>\n",
              "      <td>3127.00</td>\n",
              "      <td>1</td>\n",
              "    </tr>\n",
              "    <tr>\n",
              "      <th>17</th>\n",
              "      <td>0</td>\n",
              "      <td>0</td>\n",
              "      <td>0</td>\n",
              "      <td>1</td>\n",
              "      <td>0</td>\n",
              "      <td>20</td>\n",
              "      <td>6111</td>\n",
              "      <td>52</td>\n",
              "      <td>0</td>\n",
              "      <td>0.0</td>\n",
              "      <td>1096.000000</td>\n",
              "      <td>2</td>\n",
              "      <td>32</td>\n",
              "      <td>3.000000</td>\n",
              "      <td>5292.13</td>\n",
              "      <td>3804.06</td>\n",
              "      <td>3946.99</td>\n",
              "      <td>3931.91</td>\n",
              "      <td>3916.91</td>\n",
              "      <td>0.27</td>\n",
              "      <td>0.27</td>\n",
              "      <td>16.70</td>\n",
              "      <td>4158.66</td>\n",
              "      <td>3810.95</td>\n",
              "      <td>0</td>\n",
              "    </tr>\n",
              "    <tr>\n",
              "      <th>18</th>\n",
              "      <td>0</td>\n",
              "      <td>0</td>\n",
              "      <td>0</td>\n",
              "      <td>1</td>\n",
              "      <td>0</td>\n",
              "      <td>21</td>\n",
              "      <td>5821</td>\n",
              "      <td>47</td>\n",
              "      <td>0</td>\n",
              "      <td>1.0</td>\n",
              "      <td>146.000000</td>\n",
              "      <td>1</td>\n",
              "      <td>490</td>\n",
              "      <td>69.000000</td>\n",
              "      <td>3507.71</td>\n",
              "      <td>3965.26</td>\n",
              "      <td>4356.62</td>\n",
              "      <td>3623.20</td>\n",
              "      <td>0.56</td>\n",
              "      <td>0.56</td>\n",
              "      <td>71.99</td>\n",
              "      <td>8600.56</td>\n",
              "      <td>3605.40</td>\n",
              "      <td>4022.04</td>\n",
              "      <td>0</td>\n",
              "    </tr>\n",
              "    <tr>\n",
              "      <th>19</th>\n",
              "      <td>0</td>\n",
              "      <td>0</td>\n",
              "      <td>0</td>\n",
              "      <td>1</td>\n",
              "      <td>0</td>\n",
              "      <td>22</td>\n",
              "      <td>3500</td>\n",
              "      <td>41</td>\n",
              "      <td>0</td>\n",
              "      <td>0.0</td>\n",
              "      <td>1020.000000</td>\n",
              "      <td>2</td>\n",
              "      <td>542</td>\n",
              "      <td>31.000000</td>\n",
              "      <td>3042.70</td>\n",
              "      <td>3118.34</td>\n",
              "      <td>2843.98</td>\n",
              "      <td>2606.86</td>\n",
              "      <td>0.30</td>\n",
              "      <td>1986.01</td>\n",
              "      <td>104.44</td>\n",
              "      <td>1000.30</td>\n",
              "      <td>3101.18</td>\n",
              "      <td>2692.52</td>\n",
              "      <td>1</td>\n",
              "    </tr>\n",
              "    <tr>\n",
              "      <th>20</th>\n",
              "      <td>0</td>\n",
              "      <td>0</td>\n",
              "      <td>0</td>\n",
              "      <td>1</td>\n",
              "      <td>0</td>\n",
              "      <td>23</td>\n",
              "      <td>5724</td>\n",
              "      <td>45</td>\n",
              "      <td>1</td>\n",
              "      <td>0.0</td>\n",
              "      <td>1020.000000</td>\n",
              "      <td>2</td>\n",
              "      <td>501</td>\n",
              "      <td>23.000000</td>\n",
              "      <td>2.18</td>\n",
              "      <td>1198.35</td>\n",
              "      <td>5003.79</td>\n",
              "      <td>1223.60</td>\n",
              "      <td>79.79</td>\n",
              "      <td>70.73</td>\n",
              "      <td>3588.76</td>\n",
              "      <td>744.73</td>\n",
              "      <td>43.07</td>\n",
              "      <td>6859.18</td>\n",
              "      <td>1</td>\n",
              "    </tr>\n",
              "    <tr>\n",
              "      <th>21</th>\n",
              "      <td>0</td>\n",
              "      <td>0</td>\n",
              "      <td>0</td>\n",
              "      <td>1</td>\n",
              "      <td>0</td>\n",
              "      <td>24</td>\n",
              "      <td>2083</td>\n",
              "      <td>29</td>\n",
              "      <td>0</td>\n",
              "      <td>0.0</td>\n",
              "      <td>1020.000000</td>\n",
              "      <td>2</td>\n",
              "      <td>1106</td>\n",
              "      <td>69.997814</td>\n",
              "      <td>4792.60</td>\n",
              "      <td>5149.74</td>\n",
              "      <td>5569.58</td>\n",
              "      <td>4826.60</td>\n",
              "      <td>0.47</td>\n",
              "      <td>0.47</td>\n",
              "      <td>357.61</td>\n",
              "      <td>786.19</td>\n",
              "      <td>5029.05</td>\n",
              "      <td>5744.21</td>\n",
              "      <td>1</td>\n",
              "    </tr>\n",
              "    <tr>\n",
              "      <th>22</th>\n",
              "      <td>0</td>\n",
              "      <td>0</td>\n",
              "      <td>0</td>\n",
              "      <td>1</td>\n",
              "      <td>0</td>\n",
              "      <td>25</td>\n",
              "      <td>3101</td>\n",
              "      <td>41</td>\n",
              "      <td>0</td>\n",
              "      <td>0.0</td>\n",
              "      <td>905.000000</td>\n",
              "      <td>2</td>\n",
              "      <td>1388</td>\n",
              "      <td>13.000000</td>\n",
              "      <td>8358.47</td>\n",
              "      <td>7715.61</td>\n",
              "      <td>7819.06</td>\n",
              "      <td>7666.74</td>\n",
              "      <td>643.24</td>\n",
              "      <td>0.39</td>\n",
              "      <td>0.39</td>\n",
              "      <td>0.39</td>\n",
              "      <td>8025.96</td>\n",
              "      <td>7715.61</td>\n",
              "      <td>0</td>\n",
              "    </tr>\n",
              "    <tr>\n",
              "      <th>23</th>\n",
              "      <td>0</td>\n",
              "      <td>0</td>\n",
              "      <td>0</td>\n",
              "      <td>1</td>\n",
              "      <td>0</td>\n",
              "      <td>26</td>\n",
              "      <td>1897</td>\n",
              "      <td>34</td>\n",
              "      <td>1</td>\n",
              "      <td>0.0</td>\n",
              "      <td>931.000000</td>\n",
              "      <td>2</td>\n",
              "      <td>671</td>\n",
              "      <td>4.000000</td>\n",
              "      <td>2497.52</td>\n",
              "      <td>1401.93</td>\n",
              "      <td>1657.70</td>\n",
              "      <td>2357.17</td>\n",
              "      <td>2072.09</td>\n",
              "      <td>0.66</td>\n",
              "      <td>1191.06</td>\n",
              "      <td>1786.37</td>\n",
              "      <td>1185.47</td>\n",
              "      <td>2098.38</td>\n",
              "      <td>0</td>\n",
              "    </tr>\n",
              "    <tr>\n",
              "      <th>24</th>\n",
              "      <td>0</td>\n",
              "      <td>0</td>\n",
              "      <td>1</td>\n",
              "      <td>0</td>\n",
              "      <td>0</td>\n",
              "      <td>27</td>\n",
              "      <td>754</td>\n",
              "      <td>48</td>\n",
              "      <td>1</td>\n",
              "      <td>2.0</td>\n",
              "      <td>218.000000</td>\n",
              "      <td>2</td>\n",
              "      <td>221</td>\n",
              "      <td>47.000000</td>\n",
              "      <td>2596.21</td>\n",
              "      <td>3023.70</td>\n",
              "      <td>4867.68</td>\n",
              "      <td>7592.46</td>\n",
              "      <td>0.60</td>\n",
              "      <td>12.45</td>\n",
              "      <td>635.56</td>\n",
              "      <td>6069.10</td>\n",
              "      <td>2847.25</td>\n",
              "      <td>4957.86</td>\n",
              "      <td>1</td>\n",
              "    </tr>\n",
              "    <tr>\n",
              "      <th>25</th>\n",
              "      <td>0</td>\n",
              "      <td>0</td>\n",
              "      <td>0</td>\n",
              "      <td>1</td>\n",
              "      <td>0</td>\n",
              "      <td>28</td>\n",
              "      <td>606</td>\n",
              "      <td>76</td>\n",
              "      <td>1</td>\n",
              "      <td>0.0</td>\n",
              "      <td>1533.000000</td>\n",
              "      <td>3</td>\n",
              "      <td>881</td>\n",
              "      <td>69.997814</td>\n",
              "      <td>14289.26</td>\n",
              "      <td>14289.26</td>\n",
              "      <td>14289.26</td>\n",
              "      <td>14443.43</td>\n",
              "      <td>0.64</td>\n",
              "      <td>0.64</td>\n",
              "      <td>0.64</td>\n",
              "      <td>0.64</td>\n",
              "      <td>14289.26</td>\n",
              "      <td>14289.26</td>\n",
              "      <td>0</td>\n",
              "    </tr>\n",
              "    <tr>\n",
              "      <th>26</th>\n",
              "      <td>0</td>\n",
              "      <td>0</td>\n",
              "      <td>0</td>\n",
              "      <td>1</td>\n",
              "      <td>0</td>\n",
              "      <td>29</td>\n",
              "      <td>2620</td>\n",
              "      <td>36</td>\n",
              "      <td>1</td>\n",
              "      <td>2.0</td>\n",
              "      <td>1563.000000</td>\n",
              "      <td>1</td>\n",
              "      <td>58</td>\n",
              "      <td>20.000000</td>\n",
              "      <td>20273.43</td>\n",
              "      <td>23106.03</td>\n",
              "      <td>26221.15</td>\n",
              "      <td>5594.83</td>\n",
              "      <td>7.83</td>\n",
              "      <td>722.68</td>\n",
              "      <td>853.09</td>\n",
              "      <td>1557.17</td>\n",
              "      <td>21741.48</td>\n",
              "      <td>25504.19</td>\n",
              "      <td>0</td>\n",
              "    </tr>\n",
              "    <tr>\n",
              "      <th>27</th>\n",
              "      <td>0</td>\n",
              "      <td>0</td>\n",
              "      <td>0</td>\n",
              "      <td>1</td>\n",
              "      <td>0</td>\n",
              "      <td>30</td>\n",
              "      <td>1391</td>\n",
              "      <td>56</td>\n",
              "      <td>1</td>\n",
              "      <td>0.0</td>\n",
              "      <td>836.000000</td>\n",
              "      <td>3</td>\n",
              "      <td>2421</td>\n",
              "      <td>9.000000</td>\n",
              "      <td>7111.29</td>\n",
              "      <td>6971.29</td>\n",
              "      <td>7040.32</td>\n",
              "      <td>7298.14</td>\n",
              "      <td>143.26</td>\n",
              "      <td>0.40</td>\n",
              "      <td>3.26</td>\n",
              "      <td>0.40</td>\n",
              "      <td>7019.56</td>\n",
              "      <td>6971.29</td>\n",
              "      <td>0</td>\n",
              "    </tr>\n",
              "    <tr>\n",
              "      <th>28</th>\n",
              "      <td>0</td>\n",
              "      <td>0</td>\n",
              "      <td>0</td>\n",
              "      <td>1</td>\n",
              "      <td>0</td>\n",
              "      <td>31</td>\n",
              "      <td>4175</td>\n",
              "      <td>55</td>\n",
              "      <td>1</td>\n",
              "      <td>0.0</td>\n",
              "      <td>118.000000</td>\n",
              "      <td>1</td>\n",
              "      <td>325</td>\n",
              "      <td>9.000000</td>\n",
              "      <td>6424.46</td>\n",
              "      <td>7666.31</td>\n",
              "      <td>7003.05</td>\n",
              "      <td>6322.76</td>\n",
              "      <td>63.90</td>\n",
              "      <td>18898.87</td>\n",
              "      <td>165.46</td>\n",
              "      <td>14515.19</td>\n",
              "      <td>6499.62</td>\n",
              "      <td>8589.60</td>\n",
              "      <td>0</td>\n",
              "    </tr>\n",
              "    <tr>\n",
              "      <th>29</th>\n",
              "      <td>0</td>\n",
              "      <td>0</td>\n",
              "      <td>1</td>\n",
              "      <td>0</td>\n",
              "      <td>0</td>\n",
              "      <td>32</td>\n",
              "      <td>2204</td>\n",
              "      <td>33</td>\n",
              "      <td>0</td>\n",
              "      <td>0.0</td>\n",
              "      <td>834.000000</td>\n",
              "      <td>2</td>\n",
              "      <td>14</td>\n",
              "      <td>69.997814</td>\n",
              "      <td>6152.67</td>\n",
              "      <td>6161.67</td>\n",
              "      <td>6163.13</td>\n",
              "      <td>6156.28</td>\n",
              "      <td>0.11</td>\n",
              "      <td>0.11</td>\n",
              "      <td>0.11</td>\n",
              "      <td>0.11</td>\n",
              "      <td>6152.98</td>\n",
              "      <td>6165.44</td>\n",
              "      <td>0</td>\n",
              "    </tr>\n",
              "  </tbody>\n",
              "</table>\n",
              "</div>"
            ],
            "text/plain": [
              "    company  retired  ...  previous_month_balance  churn\n",
              "0         0        0  ...                 1458.71      0\n",
              "1         0        0  ...                 8787.61      0\n",
              "2         0        0  ...                 5070.14      0\n",
              "3         0        0  ...                 1669.79      1\n",
              "4         0        0  ...                 1677.16      1\n",
              "5         0        0  ...                15349.75      0\n",
              "6         0        1  ...                 7755.98      0\n",
              "7         0        0  ...                 5317.04      0\n",
              "8         0        0  ...                 1857.42      0\n",
              "9         0        0  ...                 2416.69      0\n",
              "10        0        1  ...                 1800.15      0\n",
              "11        0        0  ...                 8072.33      0\n",
              "12        0        1  ...                 2612.60      1\n",
              "13        0        0  ...                 1536.98      0\n",
              "14        0        0  ...                 6633.94      1\n",
              "15        0        0  ...                 1840.23      0\n",
              "16        0        0  ...                 3127.00      1\n",
              "17        0        0  ...                 3810.95      0\n",
              "18        0        0  ...                 4022.04      0\n",
              "19        0        0  ...                 2692.52      1\n",
              "20        0        0  ...                 6859.18      1\n",
              "21        0        0  ...                 5744.21      1\n",
              "22        0        0  ...                 7715.61      0\n",
              "23        0        0  ...                 2098.38      0\n",
              "24        0        0  ...                 4957.86      1\n",
              "25        0        0  ...                14289.26      0\n",
              "26        0        0  ...                25504.19      0\n",
              "27        0        0  ...                 6971.29      0\n",
              "28        0        0  ...                 8589.60      0\n",
              "29        0        0  ...                 6165.44      0\n",
              "\n",
              "[30 rows x 25 columns]"
            ]
          },
          "metadata": {
            "tags": []
          },
          "execution_count": 276
        }
      ]
    },
    {
      "cell_type": "markdown",
      "metadata": {
        "id": "4sT6P23m6qgx"
      },
      "source": [
        "**Normalize**"
      ]
    },
    {
      "cell_type": "code",
      "metadata": {
        "id": "oyBgZWOx6qgx"
      },
      "source": [
        "num_cols = ['customer_nw_category', 'current_balance',\n",
        "            'previous_month_end_balance', 'average_monthly_balance_prevQ2', 'average_monthly_balance_prevQ',\n",
        "            'current_month_credit','previous_month_credit', 'current_month_debit', \n",
        "            'previous_month_debit','current_month_balance', 'previous_month_balance']\n",
        "\n",
        "#for i in num_cols:\n",
        " #   df[i] = np.log(df[i] + 17000)\n"
      ],
      "execution_count": 277,
      "outputs": []
    },
    {
      "cell_type": "code",
      "metadata": {
        "id": "LWx41vpr6qgx"
      },
      "source": [
        "std = StandardScaler()\n",
        "scaled = std.fit_transform(df[num_cols])\n",
        "scaled = pd.DataFrame(scaled,columns=num_cols)"
      ],
      "execution_count": 216,
      "outputs": []
    },
    {
      "cell_type": "code",
      "metadata": {
        "id": "qanKEVeCQ_fN"
      },
      "source": [
        "df_df_og = df.copy()\n",
        "df = df.drop(['customer_nw_category', 'current_balance',\n",
        "            'previous_month_end_balance', 'average_monthly_balance_prevQ2', 'average_monthly_balance_prevQ',\n",
        "            'current_month_credit','previous_month_credit', 'current_month_debit', \n",
        "            'previous_month_debit','current_month_balance', 'previous_month_balance'],axis = 1)\n",
        "df = df.merge(scaled,left_index=True,right_index=True,how = \"left\")"
      ],
      "execution_count": 217,
      "outputs": []
    },
    {
      "cell_type": "code",
      "metadata": {
        "id": "OXS_4I3Q6qgv"
      },
      "source": [
        "X=df.drop(['churn', 'customer_id'],axis=1)\n",
        "y=df['churn']"
      ],
      "execution_count": 218,
      "outputs": []
    },
    {
      "cell_type": "markdown",
      "metadata": {
        "id": "Myfht4wbe-zk"
      },
      "source": [
        "Baseline Column"
      ]
    },
    {
      "cell_type": "code",
      "metadata": {
        "id": "Xn2sGE1We2iB"
      },
      "source": [
        "baseline_cols = ['current_month_debit', 'previous_month_debit','current_balance','previous_month_end_balance','vintage'\n",
        "                 ,'retired', 'salaried','self_employed', 'student']"
      ],
      "execution_count": 219,
      "outputs": []
    },
    {
      "cell_type": "code",
      "metadata": {
        "id": "hM6FsGHAe4wr"
      },
      "source": [
        "df_baseline = df[baseline_cols]"
      ],
      "execution_count": 220,
      "outputs": []
    },
    {
      "cell_type": "markdown",
      "metadata": {
        "id": "kX-smuwo6qgv"
      },
      "source": [
        "**Train_Test_Split**"
      ]
    },
    {
      "cell_type": "code",
      "metadata": {
        "id": "RumxyXat6qgw"
      },
      "source": [
        "train_X,test_X,train_y,test_y= train_test_split(df_baseline,y,random_state=56,test_size=0.2,stratify=y)"
      ],
      "execution_count": 221,
      "outputs": []
    },
    {
      "cell_type": "code",
      "metadata": {
        "id": "44lyTMc56qgw",
        "colab": {
          "base_uri": "https://localhost:8080/"
        },
        "outputId": "3bf3f345-b51d-4497-baba-f447563a1032"
      },
      "source": [
        "train_X.shape"
      ],
      "execution_count": 222,
      "outputs": [
        {
          "output_type": "execute_result",
          "data": {
            "text/plain": [
              "(22705, 9)"
            ]
          },
          "metadata": {
            "tags": []
          },
          "execution_count": 222
        }
      ]
    },
    {
      "cell_type": "code",
      "metadata": {
        "id": "ZpS50FOk6qgw",
        "colab": {
          "base_uri": "https://localhost:8080/"
        },
        "outputId": "4439c3b2-c912-428b-ffe3-fcd8a14c4b39"
      },
      "source": [
        "test_X.shape"
      ],
      "execution_count": 223,
      "outputs": [
        {
          "output_type": "execute_result",
          "data": {
            "text/plain": [
              "(5677, 9)"
            ]
          },
          "metadata": {
            "tags": []
          },
          "execution_count": 223
        }
      ]
    },
    {
      "cell_type": "code",
      "metadata": {
        "id": "1IXZQ7QI6qgw",
        "colab": {
          "base_uri": "https://localhost:8080/"
        },
        "outputId": "598545a5-4e8a-4843-e73d-89f9be06aa6c"
      },
      "source": [
        "train_y.shape"
      ],
      "execution_count": 224,
      "outputs": [
        {
          "output_type": "execute_result",
          "data": {
            "text/plain": [
              "(22705,)"
            ]
          },
          "metadata": {
            "tags": []
          },
          "execution_count": 224
        }
      ]
    },
    {
      "cell_type": "code",
      "metadata": {
        "id": "bxni2Qii6qgw",
        "colab": {
          "base_uri": "https://localhost:8080/"
        },
        "outputId": "1e7f5934-d0ca-44c0-f35d-d2b65057f55b"
      },
      "source": [
        "test_y.shape"
      ],
      "execution_count": 225,
      "outputs": [
        {
          "output_type": "execute_result",
          "data": {
            "text/plain": [
              "(5677,)"
            ]
          },
          "metadata": {
            "tags": []
          },
          "execution_count": 225
        }
      ]
    },
    {
      "cell_type": "markdown",
      "metadata": {
        "id": "OgBS5lEFlstc"
      },
      "source": [
        "**Logistic Regression**"
      ]
    },
    {
      "cell_type": "code",
      "metadata": {
        "id": "10L7j1Bp6qgx"
      },
      "source": [
        "lg=LG()"
      ],
      "execution_count": 226,
      "outputs": []
    },
    {
      "cell_type": "code",
      "metadata": {
        "id": "2NjBalSg6qgx",
        "colab": {
          "base_uri": "https://localhost:8080/"
        },
        "outputId": "ab18e4bd-b938-41b5-a36e-924c8071426a"
      },
      "source": [
        "train_y.shape"
      ],
      "execution_count": 170,
      "outputs": [
        {
          "output_type": "execute_result",
          "data": {
            "text/plain": [
              "(22705,)"
            ]
          },
          "metadata": {
            "tags": []
          },
          "execution_count": 170
        }
      ]
    },
    {
      "cell_type": "code",
      "metadata": {
        "id": "ifvS0wLd6qgy",
        "colab": {
          "base_uri": "https://localhost:8080/"
        },
        "outputId": "95efb9ae-76c3-4f0c-946b-c07e2ad43dc1"
      },
      "source": [
        "train_y.head(20)"
      ],
      "execution_count": 171,
      "outputs": [
        {
          "output_type": "execute_result",
          "data": {
            "text/plain": [
              "5102     0\n",
              "1428     0\n",
              "12337    0\n",
              "9826     0\n",
              "20876    0\n",
              "10564    0\n",
              "3659     0\n",
              "27226    0\n",
              "23398    0\n",
              "558      0\n",
              "3260     0\n",
              "14400    1\n",
              "16939    0\n",
              "13932    0\n",
              "12210    0\n",
              "27610    1\n",
              "5995     0\n",
              "6        0\n",
              "8519     0\n",
              "26727    0\n",
              "Name: churn, dtype: object"
            ]
          },
          "metadata": {
            "tags": []
          },
          "execution_count": 171
        }
      ]
    },
    {
      "cell_type": "code",
      "metadata": {
        "id": "uN5wIgS16qgy",
        "colab": {
          "base_uri": "https://localhost:8080/"
        },
        "outputId": "4434694e-0e8b-466e-eb8e-59ecd0ddadbd"
      },
      "source": [
        "type(train_X)"
      ],
      "execution_count": 172,
      "outputs": [
        {
          "output_type": "execute_result",
          "data": {
            "text/plain": [
              "pandas.core.frame.DataFrame"
            ]
          },
          "metadata": {
            "tags": []
          },
          "execution_count": 172
        }
      ]
    },
    {
      "cell_type": "code",
      "metadata": {
        "id": "9xn2ioUL6qgy",
        "colab": {
          "base_uri": "https://localhost:8080/"
        },
        "outputId": "d2228f2a-1099-44de-c30f-d869c0dc8c34"
      },
      "source": [
        "type(train_y)"
      ],
      "execution_count": 173,
      "outputs": [
        {
          "output_type": "execute_result",
          "data": {
            "text/plain": [
              "pandas.core.series.Series"
            ]
          },
          "metadata": {
            "tags": []
          },
          "execution_count": 173
        }
      ]
    },
    {
      "cell_type": "code",
      "metadata": {
        "id": "6mu81j-r6qgy"
      },
      "source": [
        "train_y=list(train_y)"
      ],
      "execution_count": 227,
      "outputs": []
    },
    {
      "cell_type": "code",
      "metadata": {
        "id": "kFis_h3p6qgy",
        "colab": {
          "base_uri": "https://localhost:8080/"
        },
        "outputId": "aa2a1444-42bc-483f-c18b-fc7f7f03d9be"
      },
      "source": [
        "lg.fit(train_X,train_y)"
      ],
      "execution_count": 228,
      "outputs": [
        {
          "output_type": "execute_result",
          "data": {
            "text/plain": [
              "LogisticRegression(C=1.0, class_weight=None, dual=False, fit_intercept=True,\n",
              "                   intercept_scaling=1, l1_ratio=None, max_iter=100,\n",
              "                   multi_class='auto', n_jobs=None, penalty='l2',\n",
              "                   random_state=None, solver='lbfgs', tol=0.0001, verbose=0,\n",
              "                   warm_start=False)"
            ]
          },
          "metadata": {
            "tags": []
          },
          "execution_count": 228
        }
      ]
    },
    {
      "cell_type": "code",
      "metadata": {
        "id": "6S9YVEvowIYk"
      },
      "source": [
        "pred = lg.predict_proba(test_X)[:,1]"
      ],
      "execution_count": 229,
      "outputs": []
    },
    {
      "cell_type": "markdown",
      "metadata": {
        "id": "qVw-aTq0xLNM"
      },
      "source": [
        "\n",
        "f1 score calculation"
      ]
    },
    {
      "cell_type": "code",
      "metadata": {
        "id": "wzlTa3ux6qg2"
      },
      "source": [
        "train_predict=lg.predict(train_X)"
      ],
      "execution_count": 230,
      "outputs": []
    },
    {
      "cell_type": "code",
      "metadata": {
        "id": "-IL_T9ZG6qg2",
        "colab": {
          "base_uri": "https://localhost:8080/"
        },
        "outputId": "99672d95-f770-492f-c08d-8b573d39be36"
      },
      "source": [
        "train_predict"
      ],
      "execution_count": 231,
      "outputs": [
        {
          "output_type": "execute_result",
          "data": {
            "text/plain": [
              "array([0, 0, 0, ..., 0, 0, 0])"
            ]
          },
          "metadata": {
            "tags": []
          },
          "execution_count": 231
        }
      ]
    },
    {
      "cell_type": "code",
      "metadata": {
        "id": "Mx1GSmVs6qg2"
      },
      "source": [
        "k=f1_score(train_predict,train_y)"
      ],
      "execution_count": 232,
      "outputs": []
    },
    {
      "cell_type": "code",
      "metadata": {
        "id": "9mnCUxnh6qg2",
        "colab": {
          "base_uri": "https://localhost:8080/"
        },
        "outputId": "76912ef1-e306-49a2-c403-c19a576a27e3"
      },
      "source": [
        "print('training f1_score',k)"
      ],
      "execution_count": 233,
      "outputs": [
        {
          "output_type": "stream",
          "text": [
            "training f1_score 0.012192262602579131\n"
          ],
          "name": "stdout"
        }
      ]
    },
    {
      "cell_type": "code",
      "metadata": {
        "id": "62wjLTsE6qg3"
      },
      "source": [
        "test_predict=lg.predict(test_X)"
      ],
      "execution_count": 234,
      "outputs": []
    },
    {
      "cell_type": "code",
      "metadata": {
        "id": "2Hm8_nx56qg3",
        "colab": {
          "base_uri": "https://localhost:8080/"
        },
        "outputId": "67320caa-9698-4ae3-9615-8cb97d27d24f"
      },
      "source": [
        "test_predict"
      ],
      "execution_count": 235,
      "outputs": [
        {
          "output_type": "execute_result",
          "data": {
            "text/plain": [
              "array([0, 0, 0, ..., 0, 0, 0])"
            ]
          },
          "metadata": {
            "tags": []
          },
          "execution_count": 235
        }
      ]
    },
    {
      "cell_type": "code",
      "metadata": {
        "id": "n0mpEQIW6qg3",
        "colab": {
          "base_uri": "https://localhost:8080/"
        },
        "outputId": "bde1e6d6-0570-41a8-9769-7d63144fdf39"
      },
      "source": [
        "type(test_predict)"
      ],
      "execution_count": 236,
      "outputs": [
        {
          "output_type": "execute_result",
          "data": {
            "text/plain": [
              "numpy.ndarray"
            ]
          },
          "metadata": {
            "tags": []
          },
          "execution_count": 236
        }
      ]
    },
    {
      "cell_type": "code",
      "metadata": {
        "id": "lF358uQ56qg3",
        "colab": {
          "base_uri": "https://localhost:8080/"
        },
        "outputId": "17983f3d-70c4-4ee7-d6ae-944bc3376679"
      },
      "source": [
        "type(test_y)"
      ],
      "execution_count": 237,
      "outputs": [
        {
          "output_type": "execute_result",
          "data": {
            "text/plain": [
              "pandas.core.series.Series"
            ]
          },
          "metadata": {
            "tags": []
          },
          "execution_count": 237
        }
      ]
    },
    {
      "cell_type": "code",
      "metadata": {
        "id": "jDLAmY2n6qg3"
      },
      "source": [
        "test_y=list(test_y)"
      ],
      "execution_count": 238,
      "outputs": []
    },
    {
      "cell_type": "code",
      "metadata": {
        "id": "02AlAwc16qg3"
      },
      "source": [
        "k=f1_score(test_predict,test_y)"
      ],
      "execution_count": 239,
      "outputs": []
    },
    {
      "cell_type": "code",
      "metadata": {
        "id": "lCWDreKw6qg3",
        "colab": {
          "base_uri": "https://localhost:8080/"
        },
        "outputId": "8d461558-e414-4aad-df4f-87fde5378831"
      },
      "source": [
        "print('test_score',k)   #  checking model success"
      ],
      "execution_count": 240,
      "outputs": [
        {
          "output_type": "stream",
          "text": [
            "test_score 0.018691588785046728\n"
          ],
          "name": "stdout"
        }
      ]
    },
    {
      "cell_type": "code",
      "metadata": {
        "colab": {
          "base_uri": "https://localhost:8080/",
          "height": 224
        },
        "id": "PHkFcApfAoS7",
        "outputId": "a244fb43-092f-40be-d58f-e3c653345b0d"
      },
      "source": [
        "df.head()"
      ],
      "execution_count": 278,
      "outputs": [
        {
          "output_type": "execute_result",
          "data": {
            "text/html": [
              "<div>\n",
              "<style scoped>\n",
              "    .dataframe tbody tr th:only-of-type {\n",
              "        vertical-align: middle;\n",
              "    }\n",
              "\n",
              "    .dataframe tbody tr th {\n",
              "        vertical-align: top;\n",
              "    }\n",
              "\n",
              "    .dataframe thead th {\n",
              "        text-align: right;\n",
              "    }\n",
              "</style>\n",
              "<table border=\"1\" class=\"dataframe\">\n",
              "  <thead>\n",
              "    <tr style=\"text-align: right;\">\n",
              "      <th></th>\n",
              "      <th>company</th>\n",
              "      <th>retired</th>\n",
              "      <th>salaried</th>\n",
              "      <th>self_employed</th>\n",
              "      <th>student</th>\n",
              "      <th>customer_id</th>\n",
              "      <th>vintage</th>\n",
              "      <th>age</th>\n",
              "      <th>gender</th>\n",
              "      <th>dependents</th>\n",
              "      <th>city</th>\n",
              "      <th>customer_nw_category</th>\n",
              "      <th>branch_code</th>\n",
              "      <th>days_since_last_transaction</th>\n",
              "      <th>current_balance</th>\n",
              "      <th>previous_month_end_balance</th>\n",
              "      <th>average_monthly_balance_prevQ</th>\n",
              "      <th>average_monthly_balance_prevQ2</th>\n",
              "      <th>current_month_credit</th>\n",
              "      <th>previous_month_credit</th>\n",
              "      <th>current_month_debit</th>\n",
              "      <th>previous_month_debit</th>\n",
              "      <th>current_month_balance</th>\n",
              "      <th>previous_month_balance</th>\n",
              "      <th>churn</th>\n",
              "    </tr>\n",
              "  </thead>\n",
              "  <tbody>\n",
              "    <tr>\n",
              "      <th>0</th>\n",
              "      <td>0</td>\n",
              "      <td>0</td>\n",
              "      <td>0</td>\n",
              "      <td>1</td>\n",
              "      <td>0</td>\n",
              "      <td>1</td>\n",
              "      <td>3135</td>\n",
              "      <td>66</td>\n",
              "      <td>1</td>\n",
              "      <td>0.0</td>\n",
              "      <td>187.000000</td>\n",
              "      <td>2</td>\n",
              "      <td>755</td>\n",
              "      <td>224.000000</td>\n",
              "      <td>1458.71</td>\n",
              "      <td>1458.71</td>\n",
              "      <td>1458.71</td>\n",
              "      <td>1449.07</td>\n",
              "      <td>0.20</td>\n",
              "      <td>0.20</td>\n",
              "      <td>0.20</td>\n",
              "      <td>0.20</td>\n",
              "      <td>1458.71</td>\n",
              "      <td>1458.71</td>\n",
              "      <td>0</td>\n",
              "    </tr>\n",
              "    <tr>\n",
              "      <th>1</th>\n",
              "      <td>0</td>\n",
              "      <td>0</td>\n",
              "      <td>0</td>\n",
              "      <td>1</td>\n",
              "      <td>0</td>\n",
              "      <td>2</td>\n",
              "      <td>310</td>\n",
              "      <td>35</td>\n",
              "      <td>1</td>\n",
              "      <td>0.0</td>\n",
              "      <td>796.109576</td>\n",
              "      <td>2</td>\n",
              "      <td>3214</td>\n",
              "      <td>60.000000</td>\n",
              "      <td>5390.37</td>\n",
              "      <td>8704.66</td>\n",
              "      <td>7799.26</td>\n",
              "      <td>12419.41</td>\n",
              "      <td>0.56</td>\n",
              "      <td>0.56</td>\n",
              "      <td>5486.27</td>\n",
              "      <td>100.56</td>\n",
              "      <td>6496.78</td>\n",
              "      <td>8787.61</td>\n",
              "      <td>0</td>\n",
              "    </tr>\n",
              "    <tr>\n",
              "      <th>2</th>\n",
              "      <td>0</td>\n",
              "      <td>0</td>\n",
              "      <td>1</td>\n",
              "      <td>0</td>\n",
              "      <td>0</td>\n",
              "      <td>4</td>\n",
              "      <td>2356</td>\n",
              "      <td>31</td>\n",
              "      <td>1</td>\n",
              "      <td>0.0</td>\n",
              "      <td>146.000000</td>\n",
              "      <td>2</td>\n",
              "      <td>41</td>\n",
              "      <td>69.997814</td>\n",
              "      <td>3913.16</td>\n",
              "      <td>5815.29</td>\n",
              "      <td>4910.17</td>\n",
              "      <td>2815.94</td>\n",
              "      <td>0.61</td>\n",
              "      <td>0.61</td>\n",
              "      <td>6046.73</td>\n",
              "      <td>259.23</td>\n",
              "      <td>5006.28</td>\n",
              "      <td>5070.14</td>\n",
              "      <td>0</td>\n",
              "    </tr>\n",
              "    <tr>\n",
              "      <th>3</th>\n",
              "      <td>0</td>\n",
              "      <td>0</td>\n",
              "      <td>0</td>\n",
              "      <td>1</td>\n",
              "      <td>0</td>\n",
              "      <td>5</td>\n",
              "      <td>478</td>\n",
              "      <td>90</td>\n",
              "      <td>1</td>\n",
              "      <td>0.0</td>\n",
              "      <td>1020.000000</td>\n",
              "      <td>2</td>\n",
              "      <td>582</td>\n",
              "      <td>147.000000</td>\n",
              "      <td>2291.91</td>\n",
              "      <td>2291.91</td>\n",
              "      <td>2084.54</td>\n",
              "      <td>1006.54</td>\n",
              "      <td>0.47</td>\n",
              "      <td>0.47</td>\n",
              "      <td>0.47</td>\n",
              "      <td>2143.33</td>\n",
              "      <td>2291.91</td>\n",
              "      <td>1669.79</td>\n",
              "      <td>1</td>\n",
              "    </tr>\n",
              "    <tr>\n",
              "      <th>4</th>\n",
              "      <td>0</td>\n",
              "      <td>0</td>\n",
              "      <td>0</td>\n",
              "      <td>1</td>\n",
              "      <td>0</td>\n",
              "      <td>6</td>\n",
              "      <td>2531</td>\n",
              "      <td>42</td>\n",
              "      <td>1</td>\n",
              "      <td>2.0</td>\n",
              "      <td>1494.000000</td>\n",
              "      <td>3</td>\n",
              "      <td>388</td>\n",
              "      <td>58.000000</td>\n",
              "      <td>927.72</td>\n",
              "      <td>1401.72</td>\n",
              "      <td>1643.31</td>\n",
              "      <td>1871.12</td>\n",
              "      <td>0.33</td>\n",
              "      <td>714.61</td>\n",
              "      <td>588.62</td>\n",
              "      <td>1538.06</td>\n",
              "      <td>1157.15</td>\n",
              "      <td>1677.16</td>\n",
              "      <td>1</td>\n",
              "    </tr>\n",
              "  </tbody>\n",
              "</table>\n",
              "</div>"
            ],
            "text/plain": [
              "   company  retired  ...  previous_month_balance  churn\n",
              "0        0        0  ...                 1458.71      0\n",
              "1        0        0  ...                 8787.61      0\n",
              "2        0        0  ...                 5070.14      0\n",
              "3        0        0  ...                 1669.79      1\n",
              "4        0        0  ...                 1677.16      1\n",
              "\n",
              "[5 rows x 25 columns]"
            ]
          },
          "metadata": {
            "tags": []
          },
          "execution_count": 278
        }
      ]
    },
    {
      "cell_type": "markdown",
      "metadata": {
        "id": "tOItd5QW57V3"
      },
      "source": [
        "*cross validation*"
      ]
    },
    {
      "cell_type": "code",
      "metadata": {
        "id": "5IZEE3qDjTQ5"
      },
      "source": [
        "def cv_score(ml_model, rstate = 12, thres = 0.5, cols = df.columns):\n",
        "    i = 1\n",
        "    cv_scores = []\n",
        "    df1 = df.copy()\n",
        "    # print(df1[['current_month_debit']].head())\n",
        "    df1 = df[cols]\n",
        "    print(df1.head())\n",
        "    y1 = list(y)\n",
        "    \n",
        "     # 5 Fold cross validation stratified on the basis of target\n",
        "    kf= StratifiedKFold(n_splits=3,random_state=rstate,shuffle=True)\n",
        "    for df_index,test_index in kf.split(df1,y1):\n",
        "        print('\\n{} of kfold {}'.format(i,kf.n_splits))\n",
        "        print(\"{} {}\".format(df_index, test_index))\n",
        "        xtr,xvl = df1.loc[df_index],df1.loc[test_index]\n",
        "        # ytr,yvl = y1[df_index],y1[test_index]\n",
        "        ytr = [y1[idx] for idx in df_index]\n",
        "        yvl = [y1[idx] for idx in test_index]\n",
        "        \n",
        "        # Define model for fitting on the training set for each fold\n",
        "        model = ml_model\n",
        "        model.fit(xtr, ytr)\n",
        "        pred_probs = model.predict_proba(xvl)\n",
        "        pp = []\n",
        "         \n",
        "        # Use threshold to define the classes based on probability values\n",
        "        for j in pred_probs[:,1]:\n",
        "            if j>thres:\n",
        "                pp.append(1)\n",
        "            else:\n",
        "                pp.append(0)\n",
        "\n",
        "        # Calculate scores for each fold and print\n",
        "        pred_val = pp\n",
        "        roc_score = roc_auc_score(yvl,pred_probs[:,1])\n",
        "        recall = recall_score(yvl,pred_val)\n",
        "        precision = precision_score(yvl,pred_val)\n",
        "        sufix = \"\"\n",
        "        msg = \"\"\n",
        "        msg += \"ROC AUC Score: {}, Recall Score: {:.4f}, Precision Score: {:.4f} \".format(roc_score, recall,precision)\n",
        "        print(\"{}\".format(msg))\n",
        "         \n",
        "         # Save scores\n",
        "        cv_scores.append(roc_score)\n",
        "        i+=1\n",
        "    return cv_scores\n"
      ],
      "execution_count": 354,
      "outputs": []
    },
    {
      "cell_type": "code",
      "metadata": {
        "id": "ZhRStsdUk3uY",
        "colab": {
          "base_uri": "https://localhost:8080/"
        },
        "outputId": "4d836f30-afa6-40fd-87dc-626b250249e5"
      },
      "source": [
        "baseline_scores = cv_score(lg, cols=baseline_cols)"
      ],
      "execution_count": 355,
      "outputs": [
        {
          "output_type": "stream",
          "text": [
            "   current_month_debit  previous_month_debit  ...  self_employed  student\n",
            "0                 0.20                  0.20  ...              1        0\n",
            "1              5486.27                100.56  ...              1        0\n",
            "2              6046.73                259.23  ...              0        0\n",
            "3                 0.47               2143.33  ...              1        0\n",
            "4               588.62               1538.06  ...              1        0\n",
            "\n",
            "[5 rows x 9 columns]\n",
            "\n",
            "1 of kfold 3\n",
            "[    1     2     3 ... 28374 28377 28380] [    0     4    11 ... 28378 28379 28381]\n",
            "ROC AUC Score: 0.655550600334929, Recall Score: 0.0548, Precision Score: 0.7619 \n",
            "\n",
            "2 of kfold 3\n",
            "[    0     3     4 ... 28378 28379 28381] [    1     2     5 ... 28371 28373 28380]\n",
            "ROC AUC Score: 0.6490887609910225, Recall Score: 0.0849, Precision Score: 0.6804 \n",
            "\n",
            "3 of kfold 3\n",
            "[    0     1     2 ... 28379 28380 28381] [    3     6    10 ... 28372 28374 28377]\n",
            "ROC AUC Score: 0.6482922637727713, Recall Score: 0.0736, Precision Score: 0.7167 \n"
          ],
          "name": "stdout"
        }
      ]
    },
    {
      "cell_type": "code",
      "metadata": {
        "id": "H8Wbz84DmLYo",
        "colab": {
          "base_uri": "https://localhost:8080/"
        },
        "outputId": "c5fd7c76-2d79-41d9-9061-236184b13cd3"
      },
      "source": [
        "all_feat_scores = cv_score(LG())"
      ],
      "execution_count": 356,
      "outputs": [
        {
          "output_type": "stream",
          "text": [
            "   company  retired  ...  previous_month_balance  churn\n",
            "0        0        0  ...                 1458.71      0\n",
            "1        0        0  ...                 8787.61      0\n",
            "2        0        0  ...                 5070.14      0\n",
            "3        0        0  ...                 1669.79      1\n",
            "4        0        0  ...                 1677.16      1\n",
            "\n",
            "[5 rows x 25 columns]\n",
            "\n",
            "1 of kfold 3\n",
            "[    1     2     3 ... 28374 28377 28380] [    0     4    11 ... 28378 28379 28381]\n",
            "ROC AUC Score: 0.7259839385724998, Recall Score: 0.0998, Precision Score: 0.7883 \n",
            "\n",
            "2 of kfold 3\n",
            "[    0     3     4 ... 28378 28379 28381] [    1     2     5 ... 28371 28373 28380]\n",
            "ROC AUC Score: 0.7143875039040313, Recall Score: 0.0878, Precision Score: 0.7000 \n",
            "\n",
            "3 of kfold 3\n",
            "[    0     1     2 ... 28379 28380 28381] [    3     6    10 ... 28372 28374 28377]\n",
            "ROC AUC Score: 0.7111984563562318, Recall Score: 0.0890, Precision Score: 0.7156 \n"
          ],
          "name": "stdout"
        }
      ]
    },
    {
      "cell_type": "markdown",
      "metadata": {
        "id": "Qrbd0XISmZva"
      },
      "source": [
        "**Random Forest**"
      ]
    },
    {
      "cell_type": "code",
      "metadata": {
        "id": "7yEeJsnomRTh"
      },
      "source": [
        "from sklearn.ensemble import RandomForestClassifier"
      ],
      "execution_count": 357,
      "outputs": []
    },
    {
      "cell_type": "code",
      "metadata": {
        "id": "4DIn9_y6mQdY",
        "colab": {
          "base_uri": "https://localhost:8080/"
        },
        "outputId": "5372867a-f421-456b-fec8-34f039b28649"
      },
      "source": [
        "rf_all_features = cv_score(RandomForestClassifier(n_estimators=10, max_depth=3))"
      ],
      "execution_count": 359,
      "outputs": [
        {
          "output_type": "stream",
          "text": [
            "   company  retired  ...  previous_month_balance  churn\n",
            "0        0        0  ...                 1458.71      0\n",
            "1        0        0  ...                 8787.61      0\n",
            "2        0        0  ...                 5070.14      0\n",
            "3        0        0  ...                 1669.79      1\n",
            "4        0        0  ...                 1677.16      1\n",
            "\n",
            "[5 rows x 25 columns]\n",
            "\n",
            "1 of kfold 3\n",
            "[    1     2     3 ... 28374 28377 28380] [    0     4    11 ... 28378 28379 28381]\n",
            "ROC AUC Score: 0.9844572178289662, Recall Score: 0.4238, Precision Score: 0.9893 \n",
            "\n",
            "2 of kfold 3\n",
            "[    0     3     4 ... 28378 28379 28381] [    1     2     5 ... 28371 28373 28380]\n",
            "ROC AUC Score: 0.9985634052414849, Recall Score: 0.6613, Precision Score: 1.0000 \n",
            "\n",
            "3 of kfold 3\n",
            "[    0     1     2 ... 28379 28380 28381] [    3     6    10 ... 28372 28374 28377]\n",
            "ROC AUC Score: 0.9942558202139674, Recall Score: 0.5191, Precision Score: 0.9956 \n"
          ],
          "name": "stdout"
        }
      ]
    },
    {
      "cell_type": "markdown",
      "metadata": {
        "id": "9Y5brXEtm0c3"
      },
      "source": [
        "**Comparison of Different model fold wise**"
      ]
    },
    {
      "cell_type": "code",
      "metadata": {
        "id": "bGZuVYpEm13H"
      },
      "source": [
        "results_df = pd.DataFrame({'baseline':baseline_scores, 'all_feats': all_feat_scores, 'random_forest': rf_all_features})"
      ],
      "execution_count": 344,
      "outputs": []
    },
    {
      "cell_type": "code",
      "metadata": {
        "id": "29TTJ8nvm9HO",
        "colab": {
          "base_uri": "https://localhost:8080/",
          "height": 279
        },
        "outputId": "79fe14fe-57b9-49fc-a529-4e02f0ebb5b7"
      },
      "source": [
        "results_df.plot(y=[\"baseline\", \"all_feats\", \"random_forest\"], kind=\"bar\")"
      ],
      "execution_count": 345,
      "outputs": [
        {
          "output_type": "execute_result",
          "data": {
            "text/plain": [
              "<matplotlib.axes._subplots.AxesSubplot at 0x7f598e8f2978>"
            ]
          },
          "metadata": {
            "tags": []
          },
          "execution_count": 345
        },
        {
          "output_type": "display_data",
          "data": {
            "image/png": "[encoded data removed]",
            "text/plain": [
              "<Figure size 432x288 with 1 Axes>"
            ]
          },
          "metadata": {
            "tags": [],
            "needs_background": "light"
          }
        }
      ]
    },
    {
      "cell_type": "markdown",
      "metadata": {
        "id": "C2qz0nKIQF4r"
      },
      "source": [
        "**Life Cycle of Project**"
      ]
    },
    {
      "cell_type": "markdown",
      "metadata": {
        "id": "Gi7ronoJQ0f_"
      },
      "source": [
        "Loading Packages and Data\n",
        "\n",
        "Missing Value Imputation using mode value\n",
        "\n",
        "Preprocessing of data (dummy with mutiple categories to keep data stricty numeric)\n",
        "\n",
        "Normalize data using standardscalar to avoid outilers\n",
        "\n",
        "Model building (logistic Regression and Random Forest)\n",
        "\n",
        "Evauation metrics (f1_score - weighted average of precision and recall and roc_auc_score for logistic Regression)\n",
        "\n",
        "Metrics roc_auc_score for Random Forest\n"
      ]
    },
    {
      "cell_type": "markdown",
      "metadata": {
        "id": "YpB4DFsdrojv"
      },
      "source": [
        "# Conclusion"
      ]
    },
    {
      "cell_type": "markdown",
      "metadata": {
        "id": "wmqEmksbnIRg"
      },
      "source": [
        "Here, we can see that the random forest model is giving the best result for each fold"
      ]
    },
    {
      "cell_type": "markdown",
      "metadata": {
        "id": "sppkcHO_d0Ij"
      },
      "source": [
        "This model is 99% in agreement with the demand of the actual business model."
      ]
    }
  ]
}